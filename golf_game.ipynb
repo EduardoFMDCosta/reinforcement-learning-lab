{
  "nbformat": 4,
  "nbformat_minor": 0,
  "metadata": {
    "colab": {
      "provenance": []
    },
    "kernelspec": {
      "name": "python3",
      "display_name": "Python 3"
    },
    "language_info": {
      "name": "python"
    }
  },
  "cells": [
    {
      "cell_type": "markdown",
      "source": [
        "# Playing Golf with RL\n",
        "\n",
        "## Explaining the problem\n",
        "\n",
        "The golf field is divided into $L \\times L$ squares. The ball and the flag (representing the hole where the ball has to be put by the player) start in randomly chosen squares. The algorithm should learn how to move the ball from the initial position to the flag using the minimum number of plays.\n",
        "\n",
        "The only physical restriction in this simplified version of the game is: each play can only move the ball to its neighborhood.\n"
      ],
      "metadata": {
        "id": "0dFSYj8KcoXk"
      }
    },
    {
      "cell_type": "markdown",
      "source": [
        "## Thinking about the problem\n",
        "\n",
        "In this game, we can model a **state** as a pair formed by the ball and flag positions (representing the hole), where each one is defined by a point in $\\mathbb{N}^{2}$, representing a position in the field (see pictures and GIFs below for a better understanding).\n",
        "\n",
        "For a field of size $L$, a position $p \\in \\{ (1,1), (1, 2), ..., (L, L) \\} \\subset \\mathbb{N}^{2}$.\n",
        "\n",
        "Hence, there are $L^2$ possible positions for the ball and, analogous, for the flag. Therefore:\n",
        "\n",
        "$$|S| = L^4 $$\n",
        "\n",
        "From the description of the problem, we propose an action set with 8 actions: North (N), Northeast (NE), East (E), Southeast (SE), South (S), Southwest (SW), West (W), and Northwest (NW) - in which all actions can be taken in any state.\n",
        "\n",
        "In this case, the number of pairs state-action is given by:\n",
        "\n",
        "$$|StAc| = |S||A| = 8L^4$$\n",
        "\n",
        "For $L=7$, which we adopt in this project, we have $|S| = 7^4 = 2401$ and $|StAc| = 19208$ state-action pairs.\n",
        "\n",
        "We do not adopt partial rewards. The agent is rewarded only in the states where the ball position is equal to the flag position, i.e. in the terminal states. In a first moment, we define the reward as 100, however this will become a hyperparameter to be optimized later on.\n",
        "\n",
        " \\begin{equation}\n",
        "    R=\n",
        "    \\begin{cases}\n",
        "      100, & \\text{if}\\ \\text{ball position} = \\text{flag position} \\\\\n",
        "      0, & \\text{otherwise}\n",
        "    \\end{cases}\n",
        "  \\end{equation}"
      ],
      "metadata": {
        "id": "2IxpCbYvmMBy"
      }
    },
    {
      "cell_type": "markdown",
      "source": [
        "# RL choices\n",
        "\n",
        "In this project, we use an on-policy first-visit MC algorithm for $\\epsilon$-soft policies and the SARSA algorithm, both as described in Sutton \\& Barto (2015).\n",
        "\n",
        "The former, as the name suggests, is an on-policy strategy (its behaviour policy during training is derived from the same policy which we aim to approximate of the optimal policy), as well as SARSA.\n",
        "\n",
        "While SARSA is clearly value-based (we try to estimate $Q$, not the optimal policy), it seems to me that our MC strategy is a mix of value-based and policy-based, as both quantities are outputs of the algorithm (I am not sure of this affirmation).\n",
        "\n",
        "In terms of exploration method, we always choose $\\epsilon$-greedy. This is mostly due to its simplicity. We see no reason to choose other method (such as UCB) here. It seems to work quite nice, as we see in the animations below.\n",
        "\n",
        "Lastly, our first method uses MC-learning while SARSA uses TD-learning.\n",
        "\n",
        "Intuitively, my first impression was that as we have relatively short episodes (and always finite) in this problem (specially considering the restriction in the number of plays), Monte Carlo methods should work quite fine. However, what I observe in this experiement is that, for the same number of learning games, the TD-learning seems to learn a better policy (see results in later sections).\n"
      ],
      "metadata": {
        "id": "Elld_EdBEKeg"
      }
    },
    {
      "cell_type": "code",
      "execution_count": null,
      "metadata": {
        "id": "7slQg67564wr"
      },
      "outputs": [],
      "source": [
        "#Import packages\n",
        "import numpy as np\n",
        "import matplotlib.pyplot as plt\n",
        "import random\n",
        "import itertools\n",
        "import matplotlib.animation as animation\n",
        "import copy"
      ]
    },
    {
      "cell_type": "code",
      "source": [
        "#Packages for Gif\n",
        "from IPython.core.interactiveshell import InteractiveShell\n",
        "InteractiveShell.ast_node_interactivity = \"all\"\n",
        "from IPython import display"
      ],
      "metadata": {
        "id": "UyctnLiB2xio"
      },
      "execution_count": null,
      "outputs": []
    },
    {
      "cell_type": "markdown",
      "source": [
        "# Running the code\n",
        "\n",
        "Make sure to change to a local folder in your personal Drive (marked with *#CHANGE TO LOCAL DIRECTORY*)."
      ],
      "metadata": {
        "id": "8yTJbDXGLFUD"
      }
    },
    {
      "cell_type": "code",
      "source": [
        "#Grant access to GDrive\n",
        "from google.colab import drive\n",
        "drive.mount('/content/drive')"
      ],
      "metadata": {
        "colab": {
          "base_uri": "https://localhost:8080/"
        },
        "id": "Q3BgRGONsBAG",
        "outputId": "50c3dcc4-a661-4666-f81b-9a3778a0fbdb"
      },
      "execution_count": null,
      "outputs": [
        {
          "output_type": "stream",
          "name": "stdout",
          "text": [
            "Drive already mounted at /content/drive; to attempt to forcibly remount, call drive.mount(\"/content/drive\", force_remount=True).\n"
          ]
        }
      ]
    },
    {
      "cell_type": "code",
      "source": [
        "#CHANGE TO LOCAL DIRECTORY\n",
        "path = '/content/drive/MyDrive/Colab Notebooks/Reinforcement Learning/'"
      ],
      "metadata": {
        "id": "RbiI_EZFvbnw"
      },
      "execution_count": null,
      "outputs": []
    },
    {
      "cell_type": "markdown",
      "source": [
        "## Main hyperparameters\n",
        "\n",
        "We choose the hyperparameters below \"by hand\". However, as we have mentioned before, these will be optimized for faster convergence of the algorithms which we are going to test in later sections of this project.\n",
        "\n",
        "The field length and a fixed action space with 8 actions for any state come naturally from the description of the problem. The reward was explained in the section *Thinking about the problem*.\n",
        "\n",
        "We use a discount factor of 0.9. This allows the learning process to understand that we want to reach the flag as fast as possible. The smaller the factor, the more incentive we have to reach it faster (with a trade-off in terms of convergence time).\n",
        "\n",
        "We set the $\\epsilon$ parameter for $\\epsilon$-greedy policies (the sole exploration method used in the project) to 10%.\n",
        "\n",
        "Finally, we set the learning rate of SARSA to 5% at a first moment."
      ],
      "metadata": {
        "id": "liZpfxdWsaSa"
      }
    },
    {
      "cell_type": "code",
      "source": [
        "#MAIN HYPERPARAMETERS\n",
        "\n",
        "#Field length\n",
        "field_len = 7\n",
        "\n",
        "#Actions space\n",
        "action_space = ['north',\n",
        "           'northeast',\n",
        "           'east',\n",
        "           'southeast',\n",
        "           'south',\n",
        "           'southwest',\n",
        "           'west',\n",
        "           'northwest'\n",
        "           ]\n",
        "\n",
        "#Total reward received when player scores\n",
        "R = 100\n",
        "\n",
        "#Discount factor\n",
        "gamma = 0.9\n",
        "\n",
        "#Epsilon for epsilon-soft policies\n",
        "eps = 0.1\n",
        "\n",
        "#Alpha for SARSA\n",
        "alpha = 0.05"
      ],
      "metadata": {
        "id": "MO1dJ2l-7UgD"
      },
      "execution_count": null,
      "outputs": []
    },
    {
      "cell_type": "markdown",
      "source": [
        "We set below the number of games during training for each one of our methods."
      ],
      "metadata": {
        "id": "PKFe1a0cdHfM"
      }
    },
    {
      "cell_type": "code",
      "source": [
        "#Some useful parameters\n",
        "nb_games_learning_MC = 50000\n",
        "nb_games_learning_SARSA = 30000"
      ],
      "metadata": {
        "id": "QJaCE8mM-7e8"
      },
      "execution_count": null,
      "outputs": []
    },
    {
      "cell_type": "markdown",
      "source": [
        "## Displaying the game\n",
        "\n",
        "We built a graphical interface for the game. The blue circle represents the ball, while the orange triangle represents the flag (or the hole).\n",
        "For starting a game, we randomly select positions for the ball and the flag, encompassing an initial state. The picture below shows an example of this initialization."
      ],
      "metadata": {
        "id": "2PupKENouO-d"
      }
    },
    {
      "cell_type": "code",
      "source": [
        "def initialState(field_len):\n",
        "\n",
        "    #Randomly choose ball position\n",
        "    ball_x, ball_y = random.randint(0, field_len-1), random.randint(0, field_len-1)\n",
        "    ball_position = [ball_x, ball_y]\n",
        "\n",
        "    #Randomly choose flag position\n",
        "    flag_x, flag_y = random.randint(0, field_len-1), random.randint(0, field_len-1)\n",
        "    flag_position = [flag_x, flag_y]\n",
        "\n",
        "    return ball_position, flag_position"
      ],
      "metadata": {
        "id": "10iQYF-q7UiP"
      },
      "execution_count": null,
      "outputs": []
    },
    {
      "cell_type": "code",
      "source": [
        "def display_field(ax, ball_position, flag_position, field_len):\n",
        "\n",
        "    #Dsiplay ball and flag\n",
        "    ax.scatter(ball_position[0] - 0.5 + 1, ball_position[1] - 0.5 + 1, marker='o')\n",
        "    ax.scatter(flag_position[0] - 0.5 + 1, flag_position[1] - 0.5 + 1, marker='>')\n",
        "\n",
        "    #Set axis max and min values\n",
        "    ax.set_xlim(0, field_len)\n",
        "    ax.set_ylim(0, field_len)\n",
        "\n",
        "    #Major ticks every 1, minor ticks every 1\n",
        "    major_ticks = np.arange(0, field_len, 1)\n",
        "    minor_ticks = np.arange(0, field_len, 1)\n",
        "\n",
        "    ax.set_xticks(major_ticks)\n",
        "    ax.set_xticks(minor_ticks, minor=True)\n",
        "    ax.set_yticks(major_ticks)\n",
        "    ax.set_yticks(minor_ticks, minor=True)\n",
        "\n",
        "    # And a corresponding grid\n",
        "    ax.grid(which='both')"
      ],
      "metadata": {
        "id": "ISQ9kvssqa_i"
      },
      "execution_count": null,
      "outputs": []
    },
    {
      "cell_type": "code",
      "source": [
        "#Initial configuration of field\n",
        "fig, ax = plt.subplots(figsize=(5,5))\n",
        "\n",
        "ball_position_simulation, flag_position_simulation = initialState(field_len)\n",
        "display_field(ax, ball_position_simulation, flag_position_simulation, field_len) #Display field\n",
        "\n",
        "#Create copy of the initial position of the ball\n",
        "ball_position_simulation_start = ball_position_simulation.copy()"
      ],
      "metadata": {
        "colab": {
          "base_uri": "https://localhost:8080/",
          "height": 320
        },
        "id": "o0DKY7Ovwbws",
        "outputId": "45454d94-5622-4d79-aff0-d1468c7f932b"
      },
      "execution_count": null,
      "outputs": [
        {
          "output_type": "display_data",
          "data": {
            "text/plain": [
              "<Figure size 360x360 with 1 Axes>"
            ],
            "image/png": "[encoded data removed]"
          },
          "metadata": {
            "needs_background": "light"
          }
        }
      ]
    },
    {
      "cell_type": "markdown",
      "source": [
        "The function *play* below changes the position of the ball based on the selected action. We recall that if the action would make the ball leave the field, it stays in the same position.\n",
        "\n",
        "As we are using a discount factor for total rewards, this represents a type of punishment for the agent, representing the fact that in real life the player would have to waste a round/time looking for the ball and bringing it back to the same position as before."
      ],
      "metadata": {
        "id": "yo8xFaYHu9eF"
      }
    },
    {
      "cell_type": "code",
      "source": [
        "def play(ball_position, field_len, action):\n",
        "\n",
        "    #Get ball positions\n",
        "    ball_x, ball_y = ball_position[0], ball_position[1]\n",
        "\n",
        "    #This action is only needed for the animation\n",
        "    if action == 'stop':\n",
        "        return\n",
        "\n",
        "    #If ball goes out of field, stay in the same position\n",
        "    if (\n",
        "          ('north' in action and (ball_y + 1 >= field_len)) or\n",
        "          ('south' in action and (ball_y - 1 < 0)) or\n",
        "          ('east' in action and (ball_x + 1 >= field_len)) or\n",
        "          ('west' in action and (ball_x - 1 < 0))\n",
        "       ):\n",
        "          return\n",
        "\n",
        "    #If inside of field, play\n",
        "    if 'north' in action:\n",
        "        ball_position[1] += 1\n",
        "    elif 'south' in action:\n",
        "        ball_position[1] -= 1\n",
        "\n",
        "    if 'east' in action:\n",
        "        ball_position[0] += 1\n",
        "    elif 'west' in action:\n",
        "        ball_position[0] -= 1"
      ],
      "metadata": {
        "id": "LGWs8UnICyrM"
      },
      "execution_count": null,
      "outputs": []
    },
    {
      "cell_type": "code",
      "source": [
        "#Randomly select a few actions\n",
        "N = 3\n",
        "S = len(action_space)\n",
        "actions = ['stop'] #Always start with stop for animation purposes\n",
        "for i in range(N):\n",
        "    actions.append(action_space[random.randint(0, S-1)])\n",
        "\n",
        "#Print selected actions\n",
        "actions[1:]"
      ],
      "metadata": {
        "colab": {
          "base_uri": "https://localhost:8080/"
        },
        "id": "4hl5dlqQCyuS",
        "outputId": "1875cc6d-361f-44d8-cc3d-8512a1f51c42"
      },
      "execution_count": null,
      "outputs": [
        {
          "output_type": "execute_result",
          "data": {
            "text/plain": [
              "['northwest', 'southwest', 'west']"
            ]
          },
          "metadata": {},
          "execution_count": 82
        }
      ]
    },
    {
      "cell_type": "code",
      "source": [
        "def update(i, ball_position_animation,flag_position_animation,field_len, actions):\n",
        "    ax.clear() #Clear axis\n",
        "    play(ball_position_animation, field_len, actions[i]) #Play\n",
        "    display_field(ax, ball_position_animation, flag_position_animation, field_len) #Display field\n",
        "\n",
        "def gifCreation(path, name_file, frames, ball_position_animation, flag_position_animation, field_len, actions):\n",
        "\n",
        "    #Realize actions and save GIF\n",
        "    ani = animation.FuncAnimation(fig, update, fargs=(ball_position_animation,flag_position_animation,field_len,actions,), frames=frames, interval=1000)\n",
        "    ani.save(path+'/' + name_file + '.gif', writer='pillow')\n",
        "\n",
        "def gifShow(path, name_file):\n",
        "\n",
        "    gifPath = path + '/' + name_file + '.gif'\n",
        "\n",
        "    # Display GIF in Jupyter, CoLab, IPython\n",
        "    with open(gifPath,'rb') as f:\n",
        "        im = display.Image(data=f.read(), format='png')\n",
        "    return im"
      ],
      "metadata": {
        "id": "vWb8r0ODLrCm"
      },
      "execution_count": null,
      "outputs": []
    },
    {
      "cell_type": "markdown",
      "source": [
        "The GIFs presented throughout the report represent the game graphically. We see the ball moving according to the actions selected by a certain algorithm (in the case below, we just select three random actions).\n",
        "\n",
        "When in the edges, the ball may take more time at a certain position. When it happens, this indicates that the action would have made the ball leave the field, as explained in the previous paragraph."
      ],
      "metadata": {
        "id": "kP28JCHRvtWE"
      }
    },
    {
      "cell_type": "code",
      "source": [
        "#############\n",
        "# GIF BLOCK #\n",
        "#############\n",
        "\n",
        "#Number of frames\n",
        "frames = N+1\n",
        "name_file = 'scatter'\n",
        "gifCreation(path, name_file, frames, ball_position_simulation, flag_position_simulation, field_len, actions)\n",
        "gif = gifShow(path, name_file)\n",
        "gif"
      ],
      "metadata": {
        "colab": {
          "base_uri": "https://localhost:8080/",
          "height": 377
        },
        "id": "Q91sO2_BM_xg",
        "outputId": "a0b701fb-d0fd-49c4-d560-7c919aae49a9"
      },
      "execution_count": null,
      "outputs": [
        {
          "output_type": "execute_result",
          "data": {
            "text/plain": [
              "<IPython.core.display.Image object>"
            ],
            "image/png": "[encoded data removed]"
          },
          "metadata": {},
          "execution_count": 85
        }
      ]
    },
    {
      "cell_type": "code",
      "source": [
        "def game_score(ball_position, flag_position):\n",
        "    return ball_position[0]==flag_position[0] and ball_position[1]==flag_position[1]\n",
        "\n",
        "def game_limit(n, field_len):\n",
        "    return n > 3*field_len\n",
        "\n",
        "def discount_factor(gamma, n):\n",
        "    return gamma**n\n",
        "\n",
        "def reward(R, ball_position, flag_position, gamma, n):\n",
        "    if game_score(ball_position, flag_position):\n",
        "        return discount_factor(gamma, n)*R\n",
        "\n",
        "    return 0"
      ],
      "metadata": {
        "id": "mTsxUp58R_yE"
      },
      "execution_count": null,
      "outputs": []
    },
    {
      "cell_type": "markdown",
      "source": [
        "## State and action classes\n",
        "\n",
        "We write Python classes for states and actions and add some useful methods to run our algorithms."
      ],
      "metadata": {
        "id": "MDbV1s04FDoa"
      }
    },
    {
      "cell_type": "code",
      "source": [
        "class State:\n",
        "    def __init__(self, ball_position, flag_position):\n",
        "        self.ball = ball_position\n",
        "        self.flag = flag_position\n",
        "\n",
        "    def nextState(self, action):\n",
        "        play(self.ball, field_len, action)\n",
        "\n",
        "    def nextAction(self, policy):\n",
        "\n",
        "        b = PositionToIndex[(self.ball[0], self.ball[1])]\n",
        "        f = PositionToIndex[(self.flag[0], self.flag[1])]\n",
        "\n",
        "        distProb = policy[b][f]\n",
        "        return action_space[np.random.choice(range(len(action_space)), p=distProb)]\n",
        "\n",
        "\n",
        "class Episode:\n",
        "    def __init__(self, policy, state):\n",
        "        self.policy = policy\n",
        "        self.state = state\n",
        "        self.episode = [state]\n",
        "        self.actions = []\n",
        "        self.future_rewards = []\n",
        "\n",
        "        #self.Q = Q\n",
        "        #self.returns = [ [ [ [] for i in range(len(action_space)) ] for j in range(field_len**2) ] for k in range(field_len**2) ]\n",
        "\n",
        "    def generateEpisode(self, state, R, gamma):\n",
        "\n",
        "        nb_episode = 1\n",
        "        while(not game_limit(nb_episode, field_len) and not game_score(self.state.ball, self.state.flag)):\n",
        "\n",
        "            nb_episode += 1\n",
        "\n",
        "            action = self.state.nextAction(self.policy)\n",
        "            self.actions.append(action)\n",
        "            self.state.nextState(action)\n",
        "            self.episode.append(copy.deepcopy(self.state))\n",
        "\n",
        "        #Compute rewards looking back\n",
        "        self.rewardsInEpisode(R, gamma)\n",
        "\n",
        "    def rewardsInEpisode(self, R, gamma):\n",
        "        for i, s in enumerate(reversed(self.episode)):\n",
        "\n",
        "            if i == 0:\n",
        "                self.future_rewards.append(reward(R, s.ball, s.flag, gamma, i))\n",
        "            else:\n",
        "                self.future_rewards.append(self.future_rewards[i-1]*gamma)\n",
        "\n",
        "        self.future_rewards = list(reversed(self.future_rewards))\n",
        "\n",
        "\n",
        "class StateAction:\n",
        "    def __init__(self, state_sequence, action_sequence):\n",
        "        self.stateSeq = state_sequence\n",
        "        self.actionSeq = action_sequence"
      ],
      "metadata": {
        "id": "zegOt31ni35m"
      },
      "execution_count": null,
      "outputs": []
    },
    {
      "cell_type": "code",
      "source": [
        "#Create dictionaries to help in navigating positions in the board and positions in the tensor\n",
        "IndexToPosition = {}\n",
        "\n",
        "incr = 0\n",
        "for i in range(field_len):\n",
        "    for j in range(field_len):\n",
        "        IndexToPosition[incr] = (i, j)\n",
        "        incr += 1\n",
        "\n",
        "PositionToIndex = {value : key for (key, value) in IndexToPosition.items()}\n",
        "\n",
        "ActionToIndex = {}\n",
        "for i, act in enumerate(action_space):\n",
        "    ActionToIndex[act] = i"
      ],
      "metadata": {
        "id": "qoL3qwahrYds"
      },
      "execution_count": null,
      "outputs": []
    },
    {
      "cell_type": "markdown",
      "source": [
        "## The optimal policy\n",
        "\n",
        "By the geometry of the game, a human could instantly infer an optimal policy for this game (i.e. a deterministic policy which takes the least amount of steps).\n",
        "\n",
        "It suffices to play diagonally until you reach the same row or column of the hole, and then play straight to the flag.\n",
        "\n",
        "The function below computes how many plays this optimal strategy would take. We call it the minimal quantity of steps."
      ],
      "metadata": {
        "id": "5jYNqGc53CBF"
      }
    },
    {
      "cell_type": "code",
      "source": [
        "def minimalQtySteps(state):\n",
        "\n",
        "    #Get positions\n",
        "    ball_pos = state.ball\n",
        "    flag_pos = state.flag\n",
        "\n",
        "    return max(abs(ball_pos[0] - flag_pos[0]), abs(ball_pos[1] - flag_pos[1]))"
      ],
      "metadata": {
        "id": "ygKst1y_0glM"
      },
      "execution_count": null,
      "outputs": []
    },
    {
      "cell_type": "markdown",
      "source": [
        "## On-policy Monte Carlo\n",
        "\n",
        "We implement the on-policy first-visit MC algorithm for $\\epsilon$-soft policies presented in Sutton \\& Barton (2015)."
      ],
      "metadata": {
        "id": "8R9hdcspxijx"
      }
    },
    {
      "cell_type": "code",
      "source": [
        "#On-policy first-visit MC control algorithm for ε-soft policies\n",
        "def OnPolicyMC(nb_episodes, R, gamma, Q, Returns, policy):\n",
        "\n",
        "    #Policy norm history vector\n",
        "    policy_history = []\n",
        "\n",
        "    #Diff number of steps history\n",
        "    diff = []\n",
        "\n",
        "    for ep in range(nb_episodes): #Repeat forever (it does NOT make sense to measure convergence using new-old)\n",
        "\n",
        "        #Random initial position for the ball and the flag\n",
        "        ball_position, flag_position = initialState(field_len)\n",
        "\n",
        "        #Create an initial state object\n",
        "        initial_state = State(ball_position, flag_position)\n",
        "\n",
        "        #Minimum number of steps needed\n",
        "        nb_optimal = minimalQtySteps(initial_state)\n",
        "\n",
        "        #Generate episode\n",
        "        episode = Episode(policy, initial_state)\n",
        "        episode.generateEpisode(initial_state, R, gamma)\n",
        "\n",
        "        #Number of steps with policy\n",
        "        diff.append(len(episode.actions) - nb_optimal)\n",
        "\n",
        "        alreadyAppeared = []\n",
        "        for i, s in enumerate(episode.episode):\n",
        "            if i < len(episode.actions):\n",
        "                if s not in alreadyAppeared:\n",
        "\n",
        "                    #G = sum(episode.future_rewards[(i+1):])\n",
        "                    G = episode.future_rewards[i]\n",
        "\n",
        "                    index_ball = PositionToIndex[(s.ball[0], s.ball[1])]\n",
        "                    index_flag = PositionToIndex[(s.flag[0], s.flag[1])]\n",
        "                    index_action = ActionToIndex[episode.actions[i]]\n",
        "\n",
        "                    Returns[index_ball][index_flag][index_action].append(G)\n",
        "                    Q[index_ball][index_flag][index_action] = np.mean(Returns[index_ball][index_flag][index_action])\n",
        "\n",
        "                    alreadyAppeared.append(s)\n",
        "\n",
        "        #Old policy\n",
        "        old_policy = policy.copy()\n",
        "\n",
        "        for i, s in enumerate(episode.episode):\n",
        "\n",
        "            index_ball = PositionToIndex[(s.ball[0], s.ball[1])]\n",
        "            index_flag = PositionToIndex[(s.flag[0], s.flag[1])]\n",
        "\n",
        "            #action_max = np.argmax(Q[index_ball][index_flag])\n",
        "            action_max = np.random.choice(np.where(Q[index_ball][index_flag] == Q[index_ball][index_flag].max())[0]) #Random choice in case of draw (it avoids returning the action North all the time, which is the first one)\n",
        "\n",
        "            for act in range(len(action_space)):\n",
        "                if act == action_max:\n",
        "                    policy[index_ball][index_flag][act] = 1 - eps + eps/len(action_space)\n",
        "                else:\n",
        "                    policy[index_ball][index_flag][act] = eps/len(action_space)\n",
        "\n",
        "        #Compute tensor norm as proxy of convergence\n",
        "        policy_history.append(np.linalg.norm(policy))\n",
        "\n",
        "    return policy_history, diff"
      ],
      "metadata": {
        "id": "v4fkgStVi4FQ"
      },
      "execution_count": null,
      "outputs": []
    },
    {
      "cell_type": "code",
      "source": [
        "#State-action value matrix (we will model it as a tensor to ease visualization)\n",
        "#First position indicates the ball position, second the flag position and the third, the possible action\n",
        "Q = np.zeros((field_len**2, field_len**2, len(action_space)))\n",
        "\n",
        "#Policy conditional to state\n",
        "policy_MC = np.random.rand(field_len**2, field_len**2, len(action_space))\n",
        "for i in range(policy_MC.shape[0]):\n",
        "    for j in range(policy_MC.shape[1]):\n",
        "        policy_MC[i][j] = policy_MC[i][j]/np.sum(policy_MC[i][j]) #Normalize\n",
        "\n",
        "#Returns (list of lists of lists)\n",
        "Returns = [ [ [ [] for i in range(len(action_space)) ] for j in range(field_len**2) ] for k in range(field_len**2) ]\n",
        "\n",
        "#Difference of steps policy to optimal history\n",
        "diff = []"
      ],
      "metadata": {
        "id": "PKrzciV7-fS2"
      },
      "execution_count": null,
      "outputs": []
    },
    {
      "cell_type": "markdown",
      "source": [
        "Training the policy for 50k games takes roughly 2min40s in Google Colab."
      ],
      "metadata": {
        "id": "qcQrcn3_ySng"
      }
    },
    {
      "cell_type": "code",
      "source": [
        "%%time\n",
        "\n",
        "#Train policy\n",
        "policy_history_MC, diff = OnPolicyMC(nb_games_learning_MC, R, gamma, Q, Returns, policy_MC)"
      ],
      "metadata": {
        "colab": {
          "base_uri": "https://localhost:8080/"
        },
        "id": "yGBJ-rfsCgdf",
        "outputId": "7366a4c6-50ad-4e8f-c853-8a638294fb07"
      },
      "execution_count": null,
      "outputs": [
        {
          "output_type": "stream",
          "name": "stdout",
          "text": [
            "CPU times: user 1min 30s, sys: 1min 11s, total: 2min 41s\n",
            "Wall time: 1min 22s\n"
          ]
        }
      ]
    },
    {
      "cell_type": "markdown",
      "source": [
        "We use the Frobenius norm of the policy vector as a proxy of convergence. In the chart below, we see that the norm increases drastically during the first thousand games and then it roughly stabilizes after 5000 games.\n",
        "\n",
        "**PS: Actually, inferring convergence from the norm is not ideal. I remarked this after seeing the chart on the difference of steps of our policy to the optimal one. Clearly, the policy is still improving, although the norm remains almost constant.**"
      ],
      "metadata": {
        "id": "zR6v9LSEyfuP"
      }
    },
    {
      "cell_type": "code",
      "source": [
        "#Plot Frobenius norm of policy tensors as a proxy of convergence\n",
        "plt.plot(policy_history_MC)\n",
        "plt.xlabel('Number of games during learning')\n",
        "plt.ylabel('Frobenius norm of policy tensor')"
      ],
      "metadata": {
        "colab": {
          "base_uri": "https://localhost:8080/",
          "height": 296
        },
        "id": "kae_kdpoxONZ",
        "outputId": "b2086f45-8723-418c-93ef-962f48d3c5d1"
      },
      "execution_count": null,
      "outputs": [
        {
          "output_type": "execute_result",
          "data": {
            "text/plain": [
              "[<matplotlib.lines.Line2D at 0x7f9366c57290>]"
            ]
          },
          "metadata": {},
          "execution_count": 93
        },
        {
          "output_type": "execute_result",
          "data": {
            "text/plain": [
              "Text(0.5, 0, 'Number of games during learning')"
            ]
          },
          "metadata": {},
          "execution_count": 93
        },
        {
          "output_type": "execute_result",
          "data": {
            "text/plain": [
              "Text(0, 0.5, 'Frobenius norm of policy tensor')"
            ]
          },
          "metadata": {},
          "execution_count": 93
        },
        {
          "output_type": "display_data",
          "data": {
            "text/plain": [
              "<Figure size 432x288 with 1 Axes>"
            ],
            "image/png": "[encoded data removed]"
          },
          "metadata": {
            "needs_background": "light"
          }
        }
      ]
    },
    {
      "cell_type": "markdown",
      "source": [
        "We see that as time passes, our policy becomes closer to the optimal policy in terms of reducing the gap of the number of steps to reach the flag."
      ],
      "metadata": {
        "id": "bengvpqPBG4s"
      }
    },
    {
      "cell_type": "code",
      "source": [
        "#Plot difference of steps\n",
        "plt.plot(diff)\n",
        "plt.xlabel('Number of games during learning')\n",
        "plt.ylabel('Diff btween number of actions using policy and optimal policy')"
      ],
      "metadata": {
        "colab": {
          "base_uri": "https://localhost:8080/",
          "height": 378
        },
        "id": "WZeBR9Om-dR6",
        "outputId": "47631010-d6e6-4202-a96f-43cfbe9e485e"
      },
      "execution_count": null,
      "outputs": [
        {
          "output_type": "execute_result",
          "data": {
            "text/plain": [
              "[<matplotlib.lines.Line2D at 0x7f9366dff1d0>]"
            ]
          },
          "metadata": {},
          "execution_count": 94
        },
        {
          "output_type": "execute_result",
          "data": {
            "text/plain": [
              "Text(0.5, 0, 'Number of games during learning')"
            ]
          },
          "metadata": {},
          "execution_count": 94
        },
        {
          "output_type": "execute_result",
          "data": {
            "text/plain": [
              "Text(0, 0.5, 'Diff btween number of actions using policy and optimal policy')"
            ]
          },
          "metadata": {},
          "execution_count": 94
        },
        {
          "output_type": "display_data",
          "data": {
            "text/plain": [
              "<Figure size 432x288 with 1 Axes>"
            ],
            "image/png": "[encoded data removed]"
          },
          "metadata": {
            "needs_background": "light"
          }
        }
      ]
    },
    {
      "cell_type": "code",
      "source": [
        "def simulate(policy, name_file, verb):\n",
        "\n",
        "    #Randomly select initial positions\n",
        "    ball_pos, flag_pos = initialState(field_len)\n",
        "    ball_pos_initial = ball_pos.copy()\n",
        "\n",
        "    #Create an initial state object\n",
        "    initial_state = State(ball_pos, flag_pos)\n",
        "\n",
        "    #Generate episode\n",
        "    episode = Episode(policy, initial_state)\n",
        "    episode.generateEpisode(initial_state, R, gamma)\n",
        "\n",
        "    #Print total reward\n",
        "    if verb:\n",
        "        print('Total reward', episode.future_rewards[0])\n",
        "\n",
        "    #Create a vector for actions beginning with stop action (for animation)\n",
        "    actions = ['stop'] #Always start with stop for animation purposes\n",
        "    for i in range(len(episode.actions)):\n",
        "        actions.append(episode.actions[i])\n",
        "\n",
        "    #Number of frames\n",
        "    frames = len(actions)\n",
        "\n",
        "    n_f = name_file\n",
        "    gifCreation(path, n_f, frames, ball_pos_initial, flag_pos, field_len, actions)\n",
        "    gif = gifShow(path, name_file)\n",
        "    return gif"
      ],
      "metadata": {
        "id": "HGfq4ctUzZTw"
      },
      "execution_count": null,
      "outputs": []
    },
    {
      "cell_type": "markdown",
      "source": [
        "**Simulating the game with the obtained policy**: the animation below shows a simulation of a game with the policy obtained from the MC algorithm, in which the initial state is randomly selected.\n",
        "\n",
        "**The user can run the cell below as many times as she/he wants to see how the policy behaves in multiple initial scenarios.**"
      ],
      "metadata": {
        "id": "C87UK6pp2IeW"
      }
    },
    {
      "cell_type": "code",
      "source": [
        "#Simulate game with optimal policy\n",
        "gif = simulate(policy_MC, 'simulation_MonteCarlo', True)\n",
        "gif"
      ],
      "metadata": {
        "colab": {
          "base_uri": "https://localhost:8080/",
          "height": 394
        },
        "id": "yqj1q2oKzZXI",
        "outputId": "69c719e3-03b7-489a-87ea-3188b8eb46cb"
      },
      "execution_count": null,
      "outputs": [
        {
          "output_type": "stream",
          "name": "stdout",
          "text": [
            "Total reward 59.049000000000014\n"
          ]
        },
        {
          "output_type": "execute_result",
          "data": {
            "text/plain": [
              "<IPython.core.display.Image object>"
            ],
            "image/png": "[encoded data removed]"
          },
          "metadata": {},
          "execution_count": 107
        }
      ]
    },
    {
      "cell_type": "markdown",
      "source": [
        "## SARSA\n",
        "\n",
        "We implement the SARSA algorithm presented in Sutton \\& Barton (2015). Our final policy is greedy with respect to the estimated $Q$."
      ],
      "metadata": {
        "id": "egT0EAT3h7yO"
      }
    },
    {
      "cell_type": "code",
      "source": [
        "#State-action value matrix (we will model it as a tensor to ease visualization)\n",
        "#First position indicates the ball position, second the flag position and the third, the possible action\n",
        "Q = np.zeros((field_len**2, field_len**2, len(action_space)))\n",
        "\n",
        "#Policy conditional to state\n",
        "policy_SARSA = np.random.rand(field_len**2, field_len**2, len(action_space))\n",
        "for i in range(policy_SARSA.shape[0]):\n",
        "    for j in range(policy_SARSA.shape[1]):\n",
        "        policy_SARSA[i][j] = policy_SARSA[i][j]/np.sum(policy_SARSA[i][j]) #Normalize\n",
        "\n",
        "#Policy for simulation\n",
        "policy_simulation = np.random.rand(field_len**2, field_len**2, len(action_space))"
      ],
      "metadata": {
        "id": "_6SRErel3d5J"
      },
      "execution_count": null,
      "outputs": []
    },
    {
      "cell_type": "code",
      "source": [
        "def eps_greedy_policy_update(policy, Q, state):\n",
        "\n",
        "    index_ball = PositionToIndex[(state.ball[0], state.ball[1])]\n",
        "    index_flag = PositionToIndex[(state.flag[0], state.flag[1])]\n",
        "\n",
        "    #ε-soft policies\n",
        "    action_max = np.random.choice(np.where(Q[index_ball][index_flag] == Q[index_ball][index_flag].max())[0])\n",
        "    for act in range(len(action_space)):\n",
        "        if act == action_max:\n",
        "            policy[index_ball][index_flag][act] = 1 - eps + eps/len(action_space)\n",
        "        else:\n",
        "            policy[index_ball][index_flag][act] = eps/len(action_space)"
      ],
      "metadata": {
        "id": "YTqVZS3u_2MH"
      },
      "execution_count": null,
      "outputs": []
    },
    {
      "cell_type": "code",
      "source": [
        "def policyFromSarsa(Q, policy):\n",
        "\n",
        "    for s1 in range(Q.shape[0]):\n",
        "        for s2 in range(Q.shape[1]):\n",
        "            action_max = np.random.choice(np.where(Q[s1][s2] == Q[s1][s2].max())[0])\n",
        "\n",
        "            for act in range(len(action_space)):\n",
        "                if act == action_max:\n",
        "                    policy[s1][s2][act] = 1\n",
        "                else:\n",
        "                    policy[s1][s2][act] = 0"
      ],
      "metadata": {
        "id": "cAhHUACFEPUV"
      },
      "execution_count": null,
      "outputs": []
    },
    {
      "cell_type": "code",
      "source": [
        "def Sarsa(nb_episodes, R, gamma, Q, policy):\n",
        "\n",
        "    #Policy norm history vector\n",
        "    Q_history = []\n",
        "\n",
        "    #Difference of number of actions (policy-optimal) needed\n",
        "    diff_actions_needed_history = []\n",
        "\n",
        "    for ep in range(nb_episodes): #Repeat forever (it does NOT make sense to measure convergence using new-old)\n",
        "\n",
        "        #Random initial position for the ball and the flag\n",
        "        ball_position, flag_position = initialState(field_len)\n",
        "        ball_position_initial, flag_position_initial = ball_position.copy(), flag_position.copy()\n",
        "\n",
        "        #Create an initial state object\n",
        "        state = State(ball_position, flag_position)\n",
        "\n",
        "        #Compute optimal number of actions needed\n",
        "        nb_actions_optimal = minimalQtySteps(state)\n",
        "\n",
        "        #Update policy (eps-greedy )\n",
        "        eps_greedy_policy_update(policy, Q, state)\n",
        "\n",
        "        #Select action based on this policy\n",
        "        action = state.nextAction(policy)\n",
        "\n",
        "        #While episode does not end\n",
        "        step = 1\n",
        "        while(not game_limit(step, field_len) and not game_score(state.ball, state.flag)):\n",
        "\n",
        "            #Make a copy of previous state\n",
        "            state_previous = copy.deepcopy(state)\n",
        "\n",
        "            #Go to next state using eps-greedy policy\n",
        "            state.nextState(action) #Go to next state\n",
        "            rew = reward(R, state.ball, state.flag, 1, 0) #Get no-discounted reward\n",
        "\n",
        "            #Update policy\n",
        "            eps_greedy_policy_update(policy, Q, state)\n",
        "\n",
        "            #Select next action\n",
        "            next_action = state.nextAction(policy)\n",
        "\n",
        "            #Select index\n",
        "            index_ball_previous = PositionToIndex[(state_previous.ball[0], state_previous.ball[1])]\n",
        "            index_flag_previous = PositionToIndex[(state_previous.flag[0], state_previous.flag[1])]\n",
        "\n",
        "            index_ball = PositionToIndex[(state.ball[0], state.ball[1])]\n",
        "            index_flag = PositionToIndex[(state.flag[0], state.flag[1])]\n",
        "\n",
        "            index_action = ActionToIndex[action]\n",
        "            index_action_next = ActionToIndex[next_action]\n",
        "\n",
        "            #Update Q\n",
        "            Q[index_ball_previous][index_flag_previous][index_action] = Q[index_ball_previous][index_flag_previous][index_action] + alpha*(rew + gamma*Q[index_ball][index_flag][index_action_next] - Q[index_ball_previous][index_flag_previous][index_action])\n",
        "\n",
        "            #Update action as algorithm demands (state already updated)\n",
        "            action = next_action\n",
        "\n",
        "            #Increment step\n",
        "            step += 1\n",
        "\n",
        "        #Compute tensor norm as proxy of convergence\n",
        "        Q_history.append(np.linalg.norm(Q))\n",
        "\n",
        "        #Number of needed steps in the episode (with greedy policy)\n",
        "        if ep % 100 == 0:\n",
        "            state_initial = State(ball_position_initial, flag_position_initial)\n",
        "            policyFromSarsa(Q, policy_simulation)\n",
        "            #Generate episode\n",
        "            episode = Episode(policy_simulation, state_initial)\n",
        "            episode.generateEpisode(state_initial, R, gamma)\n",
        "            nb_actions_policy = len(episode.actions)\n",
        "\n",
        "            #Append to history\n",
        "            diff_actions_needed_history.append(nb_actions_policy - nb_actions_optimal)\n",
        "\n",
        "    return Q_history, diff_actions_needed_history"
      ],
      "metadata": {
        "id": "-PwEwVNp0gf4"
      },
      "execution_count": null,
      "outputs": []
    },
    {
      "cell_type": "markdown",
      "source": [
        "Training the policy for 30k games takes roughly 2min50s in Google Colab."
      ],
      "metadata": {
        "id": "cH9M0-qiiUTD"
      }
    },
    {
      "cell_type": "code",
      "source": [
        "%%time\n",
        "\n",
        "#Train policy\n",
        "Q_history, diff_actions = Sarsa(nb_games_learning_SARSA, R, gamma, Q, policy_SARSA)"
      ],
      "metadata": {
        "colab": {
          "base_uri": "https://localhost:8080/"
        },
        "id": "QUQsEIk-TARF",
        "outputId": "8ae83cc2-d9e8-42d8-fd2e-345c9101f6dd"
      },
      "execution_count": null,
      "outputs": [
        {
          "output_type": "stream",
          "name": "stdout",
          "text": [
            "CPU times: user 1min 35s, sys: 1min 13s, total: 2min 48s\n",
            "Wall time: 1min 28s\n"
          ]
        }
      ]
    },
    {
      "cell_type": "code",
      "source": [
        "#Plot Frobenius norm of Q tensors as a proxy of convergence\n",
        "plt.plot(Q_history)\n",
        "plt.xlabel('Number of games during learning')\n",
        "plt.ylabel('Frobenius norm of Q tensor')"
      ],
      "metadata": {
        "colab": {
          "base_uri": "https://localhost:8080/",
          "height": 296
        },
        "id": "faD9CTEO0gig",
        "outputId": "b067bd8f-89f4-415c-9092-8d91eba37ec7"
      },
      "execution_count": null,
      "outputs": [
        {
          "output_type": "execute_result",
          "data": {
            "text/plain": [
              "[<matplotlib.lines.Line2D at 0x7f9366b65ed0>]"
            ]
          },
          "metadata": {},
          "execution_count": 102
        },
        {
          "output_type": "execute_result",
          "data": {
            "text/plain": [
              "Text(0.5, 0, 'Number of games during learning')"
            ]
          },
          "metadata": {},
          "execution_count": 102
        },
        {
          "output_type": "execute_result",
          "data": {
            "text/plain": [
              "Text(0, 0.5, 'Frobenius norm of Q tensor')"
            ]
          },
          "metadata": {},
          "execution_count": 102
        },
        {
          "output_type": "display_data",
          "data": {
            "text/plain": [
              "<Figure size 432x288 with 1 Axes>"
            ],
            "image/png": "[encoded data removed]"
          },
          "metadata": {
            "needs_background": "light"
          }
        }
      ]
    },
    {
      "cell_type": "markdown",
      "source": [
        "**An interesting result**: if we compare this chart with the analogous one in the MC section, we see that our policy derived from SARSA gets much closer to the optimal policy (and much faster, since we learnt with 20k less games)!"
      ],
      "metadata": {
        "id": "GSF-ClSyicK4"
      }
    },
    {
      "cell_type": "code",
      "source": [
        "plt.plot(diff_actions)\n",
        "plt.xlabel('Number of games during learning')\n",
        "plt.ylabel('Diff btween number of actions using policy and optimal policy')"
      ],
      "metadata": {
        "colab": {
          "base_uri": "https://localhost:8080/",
          "height": 378
        },
        "id": "uA-eLohrSytA",
        "outputId": "71133c98-f6c6-4eb0-942f-4640f43f6da4"
      },
      "execution_count": null,
      "outputs": [
        {
          "output_type": "execute_result",
          "data": {
            "text/plain": [
              "[<matplotlib.lines.Line2D at 0x7f93667ebfd0>]"
            ]
          },
          "metadata": {},
          "execution_count": 103
        },
        {
          "output_type": "execute_result",
          "data": {
            "text/plain": [
              "Text(0.5, 0, 'Number of games during learning')"
            ]
          },
          "metadata": {},
          "execution_count": 103
        },
        {
          "output_type": "execute_result",
          "data": {
            "text/plain": [
              "Text(0, 0.5, 'Diff btween number of actions using policy and optimal policy')"
            ]
          },
          "metadata": {},
          "execution_count": 103
        },
        {
          "output_type": "display_data",
          "data": {
            "text/plain": [
              "<Figure size 432x288 with 1 Axes>"
            ],
            "image/png": "[encoded data removed]"
          },
          "metadata": {
            "needs_background": "light"
          }
        }
      ]
    },
    {
      "cell_type": "code",
      "source": [
        "#Get greedy policy from Q\n",
        "policyFromSarsa(Q, policy_SARSA)"
      ],
      "metadata": {
        "id": "KmdmgZ7gGLyI"
      },
      "execution_count": null,
      "outputs": []
    },
    {
      "cell_type": "markdown",
      "source": [
        "**Simulating the game with the obtained policy**: the animation below shows a simulation of a game with the policy obtained from the SARSA algorithm, in which the initial state is randomly selected.\n",
        "\n",
        "**The user can run the cell below as many times as she/he wants to see how the policy behaves in multiple initial scenarios.**"
      ],
      "metadata": {
        "id": "7ssRT0tmTZh_"
      }
    },
    {
      "cell_type": "code",
      "source": [
        "#Simulate game with optimal policy\n",
        "gif = simulate(policy_SARSA, 'simulation_SARSA', True)\n",
        "gif"
      ],
      "metadata": {
        "colab": {
          "base_uri": "https://localhost:8080/",
          "height": 394
        },
        "id": "GIA6POP20gnU",
        "outputId": "f0d4381c-8aee-46ae-a5e7-e278fb979ff8"
      },
      "execution_count": null,
      "outputs": [
        {
          "output_type": "stream",
          "name": "stdout",
          "text": [
            "Total reward 59.049000000000014\n"
          ]
        },
        {
          "output_type": "execute_result",
          "data": {
            "text/plain": [
              "<IPython.core.display.Image object>"
            ],
            "image/png": "[encoded data removed]"
          },
          "metadata": {},
          "execution_count": 106
        }
      ]
    }
  ]
}